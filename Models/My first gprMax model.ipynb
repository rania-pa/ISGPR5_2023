{
 "cells": [
  {
   "cell_type": "markdown",
   "metadata": {},
   "source": [
    "# Introduction to simple GPR modelling using gprMax"
   ]
  },
  {
   "cell_type": "markdown",
   "metadata": {},
   "source": [
    "In order to __\"run\"__ the Jupyter Notebook's code cells once you clicked on them just press __\"Shift+Enter\"__"
   ]
  },
  {
   "cell_type": "markdown",
   "metadata": {},
   "source": [
    "You can download gprMax from www.gprmax.com and install it on your computer but you do not have to do this for this course! Experimenting with simple GPR models can be done with the Jupyter Notebooks without needing to do too much - hopefully none! - of programming steps. \n",
    "\n",
    "A lot of information and documentation exist on the gprMax website and if you want to explore further you can get in touch via the discussion board or chat message or email! \n",
    "\n",
    "Please __do consult the extensive documentation__ for more details!\n",
    "\n",
    "Download and install gprMax on Noteable. This step needs to be performed only once. Noteable will not delete the gprMax folder."
   ]
  },
  {
   "cell_type": "code",
   "execution_count": null,
   "metadata": {},
   "outputs": [],
   "source": [
    "%%bash\n",
    "git clone https://github.com/gprMax/gprMax.git ~/gprMax\n",
    "cd ~/gprMax\n",
    "python setup.py build >/dev/null\n",
    "python setup.py install >/dev/null"
   ]
  },
  {
   "cell_type": "markdown",
   "metadata": {},
   "source": [
    "First we always execute the following cell to setup things. It might take a while and you will see a star in the brackets that means it is running ..."
   ]
  },
  {
   "cell_type": "code",
   "execution_count": null,
   "metadata": {},
   "outputs": [],
   "source": [
    "run ../setup/preamble.ipynb"
   ]
  },
  {
   "cell_type": "markdown",
   "metadata": {},
   "source": [
    "Let us consider a simple 2D model. We assume that $z$-direction is infinite long and in the model it only has one cell width. So, let us consider an $x-y$ model of 0.3 metres by 0.3 metres and a spatial step of $\\Delta x = \\Delta y =$ 0.002 metres.\n",
    "\n",
    "We initially setup the source and receiver at the centre of the model over a half space of a simple material like sand and we will set the relative permiitivty of it to $\\epsilon_r$ = 3.5. We also will assume that there are no boundaries to this model for our waves and so absorbing boundaries are used by default around the edges of our numerical grid.\n",
    "\n",
    "We will then create a flat layer at a depth of about 0.2 metres from the surface with another material which intiially will assumed to be a perfect electric conductor (pec). gprMax knows about a __pec__ material and we do not need the properties of it. Similarly it knows about free space properties as well!\n",
    "\n",
    "We will run the model for a simulated time of 7 nanoseconds and use a Hertzian dipole source with a centre frequency of 2000 MHz and amplitutde 1. The antennna current waveform has the shape of a gaussian derivative.\n",
    "\n",
    "We will call this model __simplesand.in__ and we can save this file using the cell below"
   ]
  },
  {
   "cell_type": "code",
   "execution_count": null,
   "metadata": {
    "scrolled": true
   },
   "outputs": [],
   "source": [
    "%%writefile simplesand.in\n",
    "#title: My simple model\n",
    "#domain: 0.3 0.3 0.002\n",
    "#dx_dy_dz: 0.002 0.002 0.002\n",
    "#time_window: 7e-9\n",
    "#messages: y\n",
    "#num_threads: 1 \n",
    "\n",
    "#material: 3 0 1 0 sand\n",
    "\n",
    "#waveform: gaussiandot 1 2000e6 mypulse\n",
    "#hertzian_dipole: z 0.13 0.252 0 mypulse\n",
    "#rx: 0.17 0.252 0\n",
    "\n",
    "#box: 0 0 0 0.3 0.25 0.002 sand\n",
    "#box: 0 0 0 0.3 0.05 0.002 pec\n",
    "\n",
    "#geometry_view: 0 0 0 0.3 0.3 0.002 0.002 0.002 0.002 simplesand n "
   ]
  },
  {
   "cell_type": "markdown",
   "metadata": {},
   "source": [
    "We can see the input file we generated running the cell below!"
   ]
  },
  {
   "cell_type": "code",
   "execution_count": null,
   "metadata": {
    "scrolled": true
   },
   "outputs": [],
   "source": [
    "# View input file for gprMax\n",
    "\n",
    "view_file('simplesand.in')"
   ]
  },
  {
   "cell_type": "markdown",
   "metadata": {},
   "source": [
    "We are ready to run the model using our input file as an argument to the gprMax program"
   ]
  },
  {
   "cell_type": "code",
   "execution_count": null,
   "metadata": {},
   "outputs": [],
   "source": [
    "# Run model in gprMax using the command \"run -m gprMax InputFile\""
   ]
  },
  {
   "cell_type": "code",
   "execution_count": null,
   "metadata": {
    "scrolled": true
   },
   "outputs": [],
   "source": [
    "!python -m gprMax simplesand.in "
   ]
  },
  {
   "cell_type": "markdown",
   "metadata": {},
   "source": [
    "We can also see the geometry of our model to make sure it looks OK! Remember the extension of a geometry file produced by gprMax is __.vti__"
   ]
  },
  {
   "cell_type": "code",
   "execution_count": null,
   "metadata": {
    "scrolled": false
   },
   "outputs": [],
   "source": [
    "# View the 2D gprMax model to see if it is OK\n",
    "\n",
    "gprMax_model('simplesand.vti')"
   ]
  },
  {
   "cell_type": "markdown",
   "metadata": {},
   "source": [
    "Once we have run our model let us see the output! We want to see the first output point and the Ez component which is the same direction as our source. The following function will give us the modelled GPR trace, a time vector useful for plotting and the position in model space of this output point"
   ]
  },
  {
   "cell_type": "code",
   "execution_count": null,
   "metadata": {},
   "outputs": [],
   "source": [
    "# Get output A-scan data\n",
    "# dataVector, time, receiverPosition = gprMax_Ascan(filename, rx, rxcomponent)\n",
    "\n",
    "Ascan, time, pos = gprMax_Ascan('simplesand.out', 1, 'Ez')"
   ]
  },
  {
   "cell_type": "markdown",
   "metadata": {},
   "source": [
    "Then we are ready to plot the result!!! "
   ]
  },
  {
   "cell_type": "code",
   "execution_count": null,
   "metadata": {
    "scrolled": false
   },
   "outputs": [],
   "source": [
    "# Plot A-scan - plot_Ascan(trace, time_vector, rotate)\n",
    "\n",
    "plot_Ascan(Ascan, time, rotate = False)"
   ]
  },
  {
   "cell_type": "markdown",
   "metadata": {},
   "source": [
    "### Can you introduce another material and replace the __pec__ material with it and see how the strength and the shape of the relfection changes?\n",
    "\n",
    "Remember that the simple reflection coefficient R for a 1D normal incidence pulse in a lossless medium is $R = \\frac{\\sqrt{\\epsilon_{r_1}}-\\sqrt{\\epsilon_{r_2}}}{\\sqrt{\\epsilon_{r_1}}+\\sqrt{\\epsilon_{r_2}}}$ The reflection coefficient for a perfect electric conductor (pec) is -1.\n"
   ]
  },
  {
   "cell_type": "code",
   "execution_count": null,
   "metadata": {},
   "outputs": [],
   "source": []
  }
 ],
 "metadata": {
  "kernelspec": {
   "display_name": "Python 3 (ipykernel)",
   "language": "python",
   "name": "python3"
  },
  "language_info": {
   "codemirror_mode": {
    "name": "ipython",
    "version": 3
   },
   "file_extension": ".py",
   "mimetype": "text/x-python",
   "name": "python",
   "nbconvert_exporter": "python",
   "pygments_lexer": "ipython3",
   "version": "3.9.12"
  }
 },
 "nbformat": 4,
 "nbformat_minor": 4
}
